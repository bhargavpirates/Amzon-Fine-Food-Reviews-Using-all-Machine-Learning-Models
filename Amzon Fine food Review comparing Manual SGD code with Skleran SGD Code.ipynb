{
 "cells": [
  {
   "cell_type": "markdown",
   "metadata": {},
   "source": [
    "# SGD Regression Class from SkLearn  comparsion with Manual SGD Code"
   ]
  },
  {
   "cell_type": "code",
   "execution_count": 101,
   "metadata": {},
   "outputs": [],
   "source": [
    "from sklearn.datasets import load_boston\n",
    "\n",
    "from sklearn.model_selection import train_test_split\n",
    "from sklearn.linear_model import LinearRegression\n",
    "from sklearn.linear_model import SGDRegressor\n",
    "from sklearn.metrics import accuracy_score,confusion_matrix,classification_report,mean_squared_error\n",
    "\n",
    "import numpy as np\n",
    "import pandas as pd\n",
    "import matplotlib.pyplot as plt\n",
    "import seaborn as sns\n",
    "\n",
    "import warnings\n",
    "warnings.filterwarnings(\"ignore\")"
   ]
  },
  {
   "cell_type": "code",
   "execution_count": 2,
   "metadata": {},
   "outputs": [
    {
     "name": "stdout",
     "output_type": "stream",
     "text": [
      "(506, 13)\n",
      "['CRIM' 'ZN' 'INDUS' 'CHAS' 'NOX' 'RM' 'AGE' 'DIS' 'RAD' 'TAX' 'PTRATIO'\n",
      " 'B' 'LSTAT']\n"
     ]
    },
    {
     "data": {
      "text/plain": [
       "array([2.7310e-02, 0.0000e+00, 7.0700e+00, 0.0000e+00, 4.6900e-01,\n",
       "       6.4210e+00, 7.8900e+01, 4.9671e+00, 2.0000e+00, 2.4200e+02,\n",
       "       1.7800e+01, 3.9690e+02, 9.1400e+00])"
      ]
     },
     "execution_count": 2,
     "metadata": {},
     "output_type": "execute_result"
    }
   ],
   "source": [
    "boston = load_boston()\n",
    "print(boston.data.shape)\n",
    "print(boston.feature_names)\n",
    "boston.data[1]"
   ]
  },
  {
   "cell_type": "code",
   "execution_count": 3,
   "metadata": {},
   "outputs": [
    {
     "data": {
      "text/html": [
       "<div>\n",
       "<style scoped>\n",
       "    .dataframe tbody tr th:only-of-type {\n",
       "        vertical-align: middle;\n",
       "    }\n",
       "\n",
       "    .dataframe tbody tr th {\n",
       "        vertical-align: top;\n",
       "    }\n",
       "\n",
       "    .dataframe thead th {\n",
       "        text-align: right;\n",
       "    }\n",
       "</style>\n",
       "<table border=\"1\" class=\"dataframe\">\n",
       "  <thead>\n",
       "    <tr style=\"text-align: right;\">\n",
       "      <th></th>\n",
       "      <th>0</th>\n",
       "      <th>1</th>\n",
       "      <th>2</th>\n",
       "      <th>3</th>\n",
       "      <th>4</th>\n",
       "      <th>5</th>\n",
       "      <th>6</th>\n",
       "      <th>7</th>\n",
       "      <th>8</th>\n",
       "      <th>9</th>\n",
       "      <th>10</th>\n",
       "      <th>11</th>\n",
       "      <th>12</th>\n",
       "      <th>PRICE</th>\n",
       "    </tr>\n",
       "  </thead>\n",
       "  <tbody>\n",
       "    <tr>\n",
       "      <th>0</th>\n",
       "      <td>0.00632</td>\n",
       "      <td>18.0</td>\n",
       "      <td>2.31</td>\n",
       "      <td>0.0</td>\n",
       "      <td>0.538</td>\n",
       "      <td>6.575</td>\n",
       "      <td>65.2</td>\n",
       "      <td>4.0900</td>\n",
       "      <td>1.0</td>\n",
       "      <td>296.0</td>\n",
       "      <td>15.3</td>\n",
       "      <td>396.90</td>\n",
       "      <td>4.98</td>\n",
       "      <td>24.0</td>\n",
       "    </tr>\n",
       "    <tr>\n",
       "      <th>1</th>\n",
       "      <td>0.02731</td>\n",
       "      <td>0.0</td>\n",
       "      <td>7.07</td>\n",
       "      <td>0.0</td>\n",
       "      <td>0.469</td>\n",
       "      <td>6.421</td>\n",
       "      <td>78.9</td>\n",
       "      <td>4.9671</td>\n",
       "      <td>2.0</td>\n",
       "      <td>242.0</td>\n",
       "      <td>17.8</td>\n",
       "      <td>396.90</td>\n",
       "      <td>9.14</td>\n",
       "      <td>21.6</td>\n",
       "    </tr>\n",
       "    <tr>\n",
       "      <th>2</th>\n",
       "      <td>0.02729</td>\n",
       "      <td>0.0</td>\n",
       "      <td>7.07</td>\n",
       "      <td>0.0</td>\n",
       "      <td>0.469</td>\n",
       "      <td>7.185</td>\n",
       "      <td>61.1</td>\n",
       "      <td>4.9671</td>\n",
       "      <td>2.0</td>\n",
       "      <td>242.0</td>\n",
       "      <td>17.8</td>\n",
       "      <td>392.83</td>\n",
       "      <td>4.03</td>\n",
       "      <td>34.7</td>\n",
       "    </tr>\n",
       "    <tr>\n",
       "      <th>3</th>\n",
       "      <td>0.03237</td>\n",
       "      <td>0.0</td>\n",
       "      <td>2.18</td>\n",
       "      <td>0.0</td>\n",
       "      <td>0.458</td>\n",
       "      <td>6.998</td>\n",
       "      <td>45.8</td>\n",
       "      <td>6.0622</td>\n",
       "      <td>3.0</td>\n",
       "      <td>222.0</td>\n",
       "      <td>18.7</td>\n",
       "      <td>394.63</td>\n",
       "      <td>2.94</td>\n",
       "      <td>33.4</td>\n",
       "    </tr>\n",
       "  </tbody>\n",
       "</table>\n",
       "</div>"
      ],
      "text/plain": [
       "         0     1     2    3      4      5     6       7    8      9    10  \\\n",
       "0  0.00632  18.0  2.31  0.0  0.538  6.575  65.2  4.0900  1.0  296.0  15.3   \n",
       "1  0.02731   0.0  7.07  0.0  0.469  6.421  78.9  4.9671  2.0  242.0  17.8   \n",
       "2  0.02729   0.0  7.07  0.0  0.469  7.185  61.1  4.9671  2.0  242.0  17.8   \n",
       "3  0.03237   0.0  2.18  0.0  0.458  6.998  45.8  6.0622  3.0  222.0  18.7   \n",
       "\n",
       "       11    12  PRICE  \n",
       "0  396.90  4.98   24.0  \n",
       "1  396.90  9.14   21.6  \n",
       "2  392.83  4.03   34.7  \n",
       "3  394.63  2.94   33.4  "
      ]
     },
     "execution_count": 3,
     "metadata": {},
     "output_type": "execute_result"
    }
   ],
   "source": [
    "boston_data = pd.DataFrame(boston.data)\n",
    "boston_data['PRICE'] = boston.target\n",
    "boston_data.head(4)"
   ]
  },
  {
   "cell_type": "code",
   "execution_count": 4,
   "metadata": {},
   "outputs": [],
   "source": [
    "X = boston_data.drop('PRICE', axis = 1)\n",
    "Y = boston_data['PRICE']"
   ]
  },
  {
   "cell_type": "code",
   "execution_count": 5,
   "metadata": {},
   "outputs": [
    {
     "data": {
      "text/plain": [
       "((506, 13), (506,))"
      ]
     },
     "execution_count": 5,
     "metadata": {},
     "output_type": "execute_result"
    }
   ],
   "source": [
    "X.shape , Y.shape\n"
   ]
  },
  {
   "cell_type": "markdown",
   "metadata": {},
   "source": [
    "### train_test_split"
   ]
  },
  {
   "cell_type": "code",
   "execution_count": 6,
   "metadata": {},
   "outputs": [
    {
     "name": "stdout",
     "output_type": "stream",
     "text": [
      "(339, 13) (339,)\n",
      "(167, 13) (167,)\n"
     ]
    }
   ],
   "source": [
    "X_train, X_test, y_train, y_test = train_test_split(X, Y, test_size = 0.33, random_state = 5)\n",
    "\n",
    "print(X_train.shape , y_train.shape)\n",
    "print(X_test.shape , y_test.shape)"
   ]
  },
  {
   "cell_type": "markdown",
   "metadata": {},
   "source": [
    "###  StandardScaler"
   ]
  },
  {
   "cell_type": "code",
   "execution_count": 7,
   "metadata": {},
   "outputs": [],
   "source": [
    "# applying column standardization on train and test data\n",
    "from sklearn.preprocessing import StandardScaler\n",
    "\n",
    "standard_scalar=StandardScaler()\n",
    "X_train=standard_scalar.fit_transform(np.array(X_train))\n",
    "X_test=standard_scalar.transform(np.array(X_test))"
   ]
  },
  {
   "cell_type": "markdown",
   "metadata": {},
   "source": [
    "## Linear Regressor"
   ]
  },
  {
   "cell_type": "code",
   "execution_count": 9,
   "metadata": {},
   "outputs": [
    {
     "name": "stdout",
     "output_type": "stream",
     "text": [
      "(167,)\n",
      "(167,)\n",
      "Mean Squared Error  28.530458765974625\n",
      "0.6956551656111603\n"
     ]
    },
    {
     "data": {
      "image/png": "[encoded data removed]",
      "text/plain": [
       "<Figure size 432x288 with 1 Axes>"
      ]
     },
     "metadata": {
      "needs_background": "light"
     },
     "output_type": "display_data"
    }
   ],
   "source": [
    "clf = LinearRegression()\n",
    "clf.fit(X_train, y_train)\n",
    "y_pred = clf.predict(X_test)\n",
    "print(y_pred.shape)\n",
    "print(y_test.shape)\n",
    "print(\"Mean Squared Error \",mean_squared_error(y_test, y_pred))\n",
    "#print(\"Root Maen Mean Squared Error \",np.sqrt((((y_test1 - y_pred)**2).sum(axis=0))/y_pred.shape[0]))\n",
    "print(clf.score(X_test, y_test))\n",
    "\n",
    "#Plot (Y_test vs Y_test_pred) sklearn's LinearRegression\n",
    "plt.scatter(y_test, y_pred)\n",
    "plt.xlabel(\"Pricey: $Y_i$\")\n",
    "plt.ylabel(\"Predicted prices: $\\hat{Y}_i$\")\n",
    "plt.title(\"Prices vs Predicted prices: $Y_i$ vs $\\hat{Y}_i$\")\n",
    "plt.show()"
   ]
  },
  {
   "cell_type": "markdown",
   "metadata": {},
   "source": [
    "# SGDRegressor"
   ]
  },
  {
   "cell_type": "code",
   "execution_count": 102,
   "metadata": {},
   "outputs": [
    {
     "name": "stdout",
     "output_type": "stream",
     "text": [
      "(167,)\n",
      "(167,)\n",
      "Mean Squared Error  29.977240676507524\n",
      "Root Mean Square Error :  5.475147548377808\n",
      "1.0\n",
      "[-0.75095812  0.48450061 -0.36451725  0.32301409 -0.45576306  3.17623322\n",
      " -0.25421863 -1.87761304  0.70585468 -0.42636527 -1.8592365   0.81296171\n",
      " -2.92759086]\n",
      "[21.90419638]\n"
     ]
    },
    {
     "data": {
      "image/png": "[encoded data removed]",
      "text/plain": [
       "<Figure size 432x288 with 1 Axes>"
      ]
     },
     "metadata": {
      "needs_background": "light"
     },
     "output_type": "display_data"
    }
   ],
   "source": [
    "clf = SGDRegressor()\n",
    "clf.fit(X_train, y_train)\n",
    "y_pred_sgd=clf.predict(X_test)\n",
    "y_test_sgd=y_test \n",
    "print(y_pred_sgd.shape)\n",
    "print(y_test_sgd.shape)\n",
    "sgd_error=np.sqrt(mean_squared_error(y_test_sgd, y_pred_sgd))\n",
    "\n",
    "print(\"Mean Squared Error \",mean_squared_error(y_test_sgd, y_pred_sgd))\n",
    "print(\"Root Mean Square Error : \",sgd_error)\n",
    "\n",
    "print(clf.score(X_test, y_pred_sgd))\n",
    "\n",
    "\n",
    "print(clf.coef_)\n",
    "print(clf.intercept_)\n",
    "\n",
    "\n",
    "#Plot (Y_test vs Y_test_pred) sklearn's SGDRegression\n",
    "plt.scatter(y_test_sgd, y_pred_sgd)\n",
    "plt.xlabel(\"Pricey: $Y_i$\")\n",
    "plt.ylabel(\"Predicted prices: $\\hat{Y}_i$\")\n",
    "plt.title(\"Prices vs Predicted prices: $Y_i$ vs $\\hat{Y}_i$\")\n",
    "plt.show()"
   ]
  },
  {
   "cell_type": "markdown",
   "metadata": {},
   "source": [
    "# Manual SGD CODE"
   ]
  },
  {
   "cell_type": "markdown",
   "metadata": {},
   "source": [
    "### Data Preparation"
   ]
  },
  {
   "cell_type": "code",
   "execution_count": 103,
   "metadata": {},
   "outputs": [
    {
     "name": "stdout",
     "output_type": "stream",
     "text": [
      "xi shape : (339, 13)\n",
      "yi shape : (339,)\n"
     ]
    }
   ],
   "source": [
    "xi=X_train\n",
    "yi=y_train\n",
    "\n",
    "print(\"xi shape :\",xi.shape)\n",
    "print(\"yi shape :\",yi.shape)"
   ]
  },
  {
   "cell_type": "code",
   "execution_count": 104,
   "metadata": {},
   "outputs": [
    {
     "data": {
      "text/plain": [
       "(1, 339)"
      ]
     },
     "execution_count": 104,
     "metadata": {},
     "output_type": "execute_result"
    }
   ],
   "source": [
    "type(yi)\n",
    "yi=np.asarray(yi)\n",
    "yi = np.reshape(yi, (1, 339))\n",
    "yi.shape"
   ]
  },
  {
   "cell_type": "code",
   "execution_count": 18,
   "metadata": {},
   "outputs": [],
   "source": [
    "#Testing Code\n",
    "\n",
    "#m_deriv1 =np.dot((yi - (np.dot(xi , w1)+b1).T ), (-2*np.asmatrix(xi)))\n",
    "#(np.dot( w1.T ,xi[0].T) + b1)\n",
    "#for i in range(xi.shape[0]):\n",
    "#    a=(np.dot( w1.T ,xi[i].T) + b1)\n",
    "#    a1=yi[0,i]\n",
    "#            \n",
    "#    b_deriv1+=-2*(a1-a)"
   ]
  },
  {
   "cell_type": "markdown",
   "metadata": {},
   "source": [
    "### Actual Code"
   ]
  },
  {
   "cell_type": "code",
   "execution_count": 75,
   "metadata": {},
   "outputs": [
    {
     "name": "stdout",
     "output_type": "stream",
     "text": [
      "w_old Shape :  [[0.63906861]\n",
      " [0.35701883]\n",
      " [0.87577566]\n",
      " [0.518013  ]\n",
      " [0.8189095 ]\n",
      " [0.36494043]\n",
      " [0.44796275]\n",
      " [0.07442719]\n",
      " [0.29094469]\n",
      " [0.19033339]\n",
      " [0.6029744 ]\n",
      " [0.76964201]\n",
      " [0.37612381]]\n",
      "b_old Shape :  0.08841501617743008\n",
      "xi shape : (339, 13)\n",
      "yi shape : (1, 339)\n",
      "[[-0.88687494  0.54549832 -0.31781386  0.29406197 -0.27477317  3.33599136\n",
      "  -0.3457336  -1.49742506  0.58232525 -0.66532107 -1.79609324  0.97851434\n",
      "  -2.98031435]]\n",
      "[[26.27415341]]\n"
     ]
    }
   ],
   "source": [
    "r= 1\n",
    "m_deriv = 0\n",
    "b_deriv = 0\n",
    "learning_rate =0.000001\n",
    "it = 1\n",
    "w0=0\n",
    "b0=0\n",
    "w0_grad=0\n",
    "b0_grad=0\n",
    "w0_random = np.random.rand(13)\n",
    "w_old = np.asmatrix(w0_random).T\n",
    "b = np.random.rand()\n",
    "b_old = np.random.rand() \n",
    "b_deriv1=0\n",
    "\n",
    "print(\"w_old Shape : \",w_old)\n",
    "print(\"b_old Shape : \",b_old)\n",
    "\n",
    "print(\"xi shape :\",xi.shape)\n",
    "print(\"yi shape :\",yi.shape)\n",
    "\n",
    "\n",
    "\n",
    "for j in range(5000):\n",
    "    for i in range(1):\n",
    "        w1=w_old\n",
    "        b1=b_old\n",
    "        m_deriv1 =np.dot((yi - (np.dot(xi , w1)+b1).T ), (-2*np.asmatrix(xi)))\n",
    "        \n",
    "        for i in range(339):\n",
    "            \n",
    "            a=(np.dot( w1.T ,xi[i].T) + b1)\n",
    "            a1=yi[0,i]\n",
    "            \n",
    "            b_deriv1+=-2*(a1-a)\n",
    "    \n",
    "    w_grad = m_deriv1 * learning_rate\n",
    "    b_grad = b_deriv1 * learning_rate\n",
    "        \n",
    "    w_old=w_old.T\n",
    "\n",
    "    w_new = w_old - w_grad\n",
    "    b_new = b_old - b_grad\n",
    "\n",
    "    it += 1\n",
    "    if (w_new==w_old).all():\n",
    "        break\n",
    "    else:\n",
    "        w_old = w_new.T\n",
    "        b_old = b_new[0,0]\n",
    "        learning_rate = learning_rate\n",
    "\n",
    "print(w_new)\n",
    "print(b_new)"
   ]
  },
  {
   "cell_type": "code",
   "execution_count": 106,
   "metadata": {},
   "outputs": [
    {
     "name": "stdout",
     "output_type": "stream",
     "text": [
      " Mean Square error of ownSGD = 40.78313343944556\n",
      "Root Mean Square error of ownSGD = 6.386167351349756\n"
     ]
    }
   ],
   "source": [
    "yi_test1 = np.asmatrix(y_test).T\n",
    "y_pred1 =np.dot(X_test ,( w_new.T )) + b_new\n",
    "\n",
    "yi_test1=np.asarray(yi_test1)\n",
    "y_pred1=np.asarray(y_pred1)\n",
    "\n",
    "print(' Mean Square error of ownSGD =',mean_squared_error(yi_test1,y_pred1))\n",
    "Root_Mean_Square_error_ownSGD=np.sqrt(mean_squared_error(yi_test1,y_pred1))\n",
    "print('Root Mean Square error of ownSGD =',Root_Mean_Square_error_ownSGD)\n"
   ]
  },
  {
   "cell_type": "markdown",
   "metadata": {},
   "source": [
    "### Using DataFrame Comaparsion y_pred1 and yi_test1"
   ]
  },
  {
   "cell_type": "code",
   "execution_count": 107,
   "metadata": {},
   "outputs": [
    {
     "data": {
      "text/html": [
       "<div>\n",
       "<style scoped>\n",
       "    .dataframe tbody tr th:only-of-type {\n",
       "        vertical-align: middle;\n",
       "    }\n",
       "\n",
       "    .dataframe tbody tr th {\n",
       "        vertical-align: top;\n",
       "    }\n",
       "\n",
       "    .dataframe thead th {\n",
       "        text-align: right;\n",
       "    }\n",
       "</style>\n",
       "<table border=\"1\" class=\"dataframe\">\n",
       "  <thead>\n",
       "    <tr style=\"text-align: right;\">\n",
       "      <th></th>\n",
       "      <th>0</th>\n",
       "      <th>0</th>\n",
       "    </tr>\n",
       "  </thead>\n",
       "  <tbody>\n",
       "    <tr>\n",
       "      <th>0</th>\n",
       "      <td>37.6</td>\n",
       "      <td>40.601757</td>\n",
       "    </tr>\n",
       "    <tr>\n",
       "      <th>1</th>\n",
       "      <td>27.9</td>\n",
       "      <td>33.417782</td>\n",
       "    </tr>\n",
       "    <tr>\n",
       "      <th>2</th>\n",
       "      <td>22.6</td>\n",
       "      <td>30.449701</td>\n",
       "    </tr>\n",
       "    <tr>\n",
       "      <th>3</th>\n",
       "      <td>13.8</td>\n",
       "      <td>8.920778</td>\n",
       "    </tr>\n",
       "    <tr>\n",
       "      <th>4</th>\n",
       "      <td>35.2</td>\n",
       "      <td>37.870757</td>\n",
       "    </tr>\n",
       "  </tbody>\n",
       "</table>\n",
       "</div>"
      ],
      "text/plain": [
       "      0          0\n",
       "0  37.6  40.601757\n",
       "1  27.9  33.417782\n",
       "2  22.6  30.449701\n",
       "3  13.8   8.920778\n",
       "4  35.2  37.870757"
      ]
     },
     "execution_count": 107,
     "metadata": {},
     "output_type": "execute_result"
    }
   ],
   "source": [
    "predicted=pd.DataFrame(y_pred1)\n",
    "actual=pd.DataFrame(yi_test1)\n",
    "df=pd.concat([actual,predicted],axis=1)\n",
    "\n",
    "df.head(5)\n"
   ]
  },
  {
   "cell_type": "markdown",
   "metadata": {},
   "source": [
    "## Plot Between y_actual and y_predict"
   ]
  },
  {
   "cell_type": "code",
   "execution_count": 108,
   "metadata": {},
   "outputs": [
    {
     "data": {
      "image/png": "[encoded data removed]",
      "text/plain": [
       "<Figure size 432x288 with 1 Axes>"
      ]
     },
     "metadata": {
      "needs_background": "light"
     },
     "output_type": "display_data"
    }
   ],
   "source": [
    "plt.scatter(yi_test1,y_pred1)\n",
    "plt.grid(b=True, linewidth=0.3)\n",
    "plt.title('scatter plot between actual y and predicted y')\n",
    "plt.xlabel('actual y')\n",
    "plt.ylabel('predicted y')\n",
    "plt.show()"
   ]
  },
  {
   "cell_type": "markdown",
   "metadata": {},
   "source": [
    "## Plot bewtween  y_pred_sgd(SGD Regressor)  and y_pred(your own SGD CODE)"
   ]
  },
  {
   "cell_type": "code",
   "execution_count": 111,
   "metadata": {},
   "outputs": [
    {
     "data": {
      "image/png": "[encoded data removed]",
      "text/plain": [
       "<Figure size 432x288 with 1 Axes>"
      ]
     },
     "metadata": {
      "needs_background": "light"
     },
     "output_type": "display_data"
    },
    {
     "name": "stdout",
     "output_type": "stream",
     "text": [
      "**************************************************************\n"
     ]
    }
   ],
   "source": [
    "\n",
    "plt.scatter(y_pred_sgd , y_pred1)\n",
    "plt.grid(b=True, linewidth=0.3)\n",
    "plt.title('scatter plot between SGD Regressor (y) and  own SGD CODE(y)')\n",
    "plt.xlabel('actual y')\n",
    "plt.ylabel('predicted y')\n",
    "plt.show()\n",
    "print('**************************************************************')"
   ]
  },
  {
   "cell_type": "markdown",
   "metadata": {},
   "source": [
    "## Comparsion between weights of SGD Regressor and Manual SGD Code"
   ]
  },
  {
   "cell_type": "code",
   "execution_count": 82,
   "metadata": {},
   "outputs": [
    {
     "name": "stdout",
     "output_type": "stream",
     "text": [
      "[-0.89854896  0.46155762 -0.63948464  0.29027772 -0.45968502  3.23097525\n",
      " -0.36150488 -1.77019036  0.71263024 -0.52329898 -1.86767509  0.89155273\n",
      " -2.95770292]\n",
      "[21.88791544]\n",
      "[[-0.88687494  0.54549832 -0.31781386  0.29406197 -0.27477317  3.33599136\n",
      "  -0.3457336  -1.49742506  0.58232525 -0.66532107 -1.79609324  0.97851434\n",
      "  -2.98031435]]\n",
      "[[26.27415341]]\n"
     ]
    }
   ],
   "source": [
    "print(clf.coef_)\n",
    "print(clf.intercept_)# sgd_error\n",
    "print(w_new)\n",
    "print(b_new)"
   ]
  },
  {
   "cell_type": "code",
   "execution_count": 91,
   "metadata": {},
   "outputs": [],
   "source": [
    "sgdRegessor=clf.coef_.tolist()\n",
    "yourSGD=np.array(w_new).flatten().tolist()"
   ]
  },
  {
   "cell_type": "markdown",
   "metadata": {},
   "source": [
    "### pretty table for weights of SGD REGRESSOR and Manula SGD Code"
   ]
  },
  {
   "cell_type": "code",
   "execution_count": 99,
   "metadata": {},
   "outputs": [
    {
     "name": "stdout",
     "output_type": "stream",
     "text": [
      "+---------------------+--------------------+---------------------+---------------------+---------------------+--------------------+---------------------+---------------------+--------------------+---------------------+---------------------+--------------------+--------------------+\n",
      "|         CRIM        |         ZN         |        INDUS        |         CHAS        |         NOX         |         RM         |         AGE         |         DIS         |        RAD         |         TAX         |       PTRATIO       |         B          |       LSTAT        |\n",
      "+---------------------+--------------------+---------------------+---------------------+---------------------+--------------------+---------------------+---------------------+--------------------+---------------------+---------------------+--------------------+--------------------+\n",
      "| -0.8985489561733727 | 0.4615576154354494 | -0.6394846425626869 | 0.29027772061125645 | -0.4596850226141225 | 3.2309752524034714 | -0.3615048825195459 | -1.7701903568953008 | 0.7126302372068248 | -0.5232989765093956 | -1.8676750893166998 | 0.8915527271888153 | -2.957702918164053 |\n",
      "|  -0.886874942875584 | 0.5454983247760784 | -0.3178138567567583 |  0.2940619665782778 | -0.2747731725645393 | 3.335991361091071  |  -0.345733601160064 | -1.4974250613477582 | 0.5823252467798552 | -0.6653210732635794 | -1.7960932367285436 | 0.978514336736529  | -2.980314354891839 |\n",
      "+---------------------+--------------------+---------------------+---------------------+---------------------+--------------------+---------------------+---------------------+--------------------+---------------------+---------------------+--------------------+--------------------+\n"
     ]
    }
   ],
   "source": [
    "from prettytable import PrettyTable\n",
    "x = PrettyTable()\n",
    "\n",
    "feature_names = boston.feature_names\n",
    "x.field_names = feature_names\n",
    "\n",
    "x.add_row(sgdRegessor)\n",
    "x.add_row(yourSGD)\n",
    "\n",
    "print(x)"
   ]
  },
  {
   "cell_type": "markdown",
   "metadata": {},
   "source": [
    "#Analysis :\n",
    "#lr_rate - iter == eeror\n",
    "#0.000001 - 5000 == 6.4, 100 == 20 , 1000 = 15.089\n",
    "#0.0001 - 1000 = 19.35 , 100 == 11 ,70 == 20 ,500 = 9.3,250=18,600 = 22\n"
   ]
  },
  {
   "cell_type": "markdown",
   "metadata": {},
   "source": [
    "## Comparsion of RMSE and MSE  for Sklearn_SGD and Manual_SGD"
   ]
  },
  {
   "cell_type": "code",
   "execution_count": 117,
   "metadata": {},
   "outputs": [
    {
     "name": "stdout",
     "output_type": "stream",
     "text": [
      "+-------------+---------------------+-------------------+\n",
      "|     Algo    | RootMeanSquareError |  MeanSquareError  |\n",
      "+-------------+---------------------+-------------------+\n",
      "| SKlearn_SGD |  29.977240676507524 | 5.475147548377808 |\n",
      "|  Manual_SGD |  40.78313343944556  | 6.386167351349756 |\n",
      "+-------------+---------------------+-------------------+\n"
     ]
    }
   ],
   "source": [
    "MSE_SGD=mean_squared_error(y_test_sgd, y_pred_sgd)\n",
    "RMSE_SGD=sgd_error\n",
    "\n",
    "MSE_ManualSGD=mean_squared_error(yi_test1,y_pred1)\n",
    "RMSE_ManualSGD=Root_Mean_Square_error_ownSGD\n",
    "\n",
    "\n",
    "from prettytable import PrettyTable\n",
    "y = PrettyTable()\n",
    "\n",
    "y.field_names = ['Algo','RootMeanSquareError','MeanSquareError']\n",
    "\n",
    "y.add_row(['SKlearn_SGD',MSE_SGD,RMSE_SGD])\n",
    "y.add_row(['Manual_SGD', MSE_ManualSGD , RMSE_ManualSGD ])\n",
    "\n",
    "print(y)"
   ]
  }
 ],
 "metadata": {
  "kernelspec": {
   "display_name": "Python 3",
   "language": "python",
   "name": "python3"
  },
  "language_info": {
   "codemirror_mode": {
    "name": "ipython",
    "version": 3
   },
   "file_extension": ".py",
   "mimetype": "text/x-python",
   "name": "python",
   "nbconvert_exporter": "python",
   "pygments_lexer": "ipython3",
   "version": "3.6.8"
  }
 },
 "nbformat": 4,
 "nbformat_minor": 2
}
